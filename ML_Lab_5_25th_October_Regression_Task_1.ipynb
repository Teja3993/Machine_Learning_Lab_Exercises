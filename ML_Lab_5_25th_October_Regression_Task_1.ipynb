{
  "nbformat": 4,
  "nbformat_minor": 0,
  "metadata": {
    "colab": {
      "provenance": [],
      "authorship_tag": "ABX9TyP56J3ffncf9EJ1z3qEhIoY",
      "include_colab_link": true
    },
    "kernelspec": {
      "name": "python3",
      "display_name": "Python 3"
    },
    "language_info": {
      "name": "python"
    }
  },
  "cells": [
    {
      "cell_type": "markdown",
      "metadata": {
        "id": "view-in-github",
        "colab_type": "text"
      },
      "source": [
        "<a href=\"https://colab.research.google.com/github/Teja3993/Machine_Learning_Lab_Exercises/blob/main/ML_Lab_5_25th_October_Regression_Task_1.ipynb\" target=\"_parent\"><img src=\"https://colab.research.google.com/assets/colab-badge.svg\" alt=\"Open In Colab\"/></a>"
      ]
    },
    {
      "cell_type": "code",
      "execution_count": 3,
      "metadata": {
        "colab": {
          "base_uri": "https://localhost:8080/"
        },
        "id": "M18qco1bROAb",
        "outputId": "50079728-e2f6-4ae6-9807-8ed07084bae0"
      },
      "outputs": [
        {
          "output_type": "stream",
          "name": "stdout",
          "text": [
            "Linear Regression R² Score: 0.9442031815195597\n",
            "Polynomial Regression (deg=3) R² Score: 0.9406100492181844\n",
            "SVR (RBF) R² Score: 0.9374296718852451\n"
          ]
        }
      ],
      "source": [
        "from sklearn.datasets import make_regression\n",
        "from sklearn.linear_model import LinearRegression\n",
        "from sklearn.preprocessing import PolynomialFeatures, StandardScaler\n",
        "from sklearn.pipeline import make_pipeline\n",
        "from sklearn.svm import SVR\n",
        "from sklearn.model_selection import train_test_split\n",
        "from sklearn.metrics import r2_score\n",
        "\n",
        "# Dataset\n",
        "X, y = make_regression(n_samples=1000, n_features=5, n_informative=5, noise=15, random_state=42)\n",
        "X_train, X_test, y_train, y_test = train_test_split(X, y, test_size=0.2, random_state=0)\n",
        "\n",
        "# Linear Regression\n",
        "lr = LinearRegression()\n",
        "lr.fit(X_train, y_train)\n",
        "print(\"Linear Regression R² Score:\", lr.score(X_test, y_test))\n",
        "\n",
        "# Polynomial Regression (degree 3)\n",
        "poly_model = make_pipeline(PolynomialFeatures(degree=3), LinearRegression())\n",
        "poly_model.fit(X_train, y_train)\n",
        "print(\"Polynomial Regression (deg=3) R² Score:\", poly_model.score(X_test, y_test))\n",
        "\n",
        "# SVR with RBF Kernel\n",
        "scaler = StandardScaler()\n",
        "X_train_scaled = scaler.fit_transform(X_train)\n",
        "X_test_scaled = scaler.transform(X_test)\n",
        "\n",
        "svr = SVR(kernel='rbf', C=100, gamma=0.1)\n",
        "svr.fit(X_train_scaled, y_train)\n",
        "print(\"SVR (RBF) R² Score:\", svr.score(X_test_scaled, y_test))\n"
      ]
    },
    {
      "cell_type": "code",
      "source": [
        "\n",
        "from sklearn.datasets import make_regression\n",
        "from sklearn.linear_model import LinearRegression\n",
        "from sklearn.preprocessing import PolynomialFeatures, StandardScaler\n",
        "from sklearn.pipeline import make_pipeline\n",
        "from sklearn.svm import SVR\n",
        "from sklearn.model_selection import train_test_split\n",
        "from sklearn.metrics import r2_score\n",
        "\n",
        "# Dataset\n",
        "# Import the function to load the dataset\n",
        "from sklearn.datasets import fetch_california_housing\n",
        "\n",
        "# Load the dataset\n",
        "housing = fetch_california_housing()\n",
        "X = housing.data\n",
        "y = housing.target\n",
        "X_train, X_test, y_train, y_test = train_test_split(X, y, test_size=0.2, random_state=0)\n",
        "\n",
        "# Linear Regression\n",
        "lr = LinearRegression()\n",
        "lr.fit(X_train, y_train)\n",
        "print(\"Linear Regression R² Score:\", lr.score(X_test, y_test))\n",
        "\n",
        "# Polynomial Regression (degree 3)\n",
        "poly_model = make_pipeline(PolynomialFeatures(degree=3), LinearRegression())\n",
        "poly_model.fit(X_train, y_train)\n",
        "print(\"Polynomial Regression (deg=3) R² Score:\", poly_model.score(X_test, y_test))\n",
        "\n",
        "# SVR with RBF Kernel\n",
        "scaler = StandardScaler()\n",
        "X_train_scaled = scaler.fit_transform(X_train)\n",
        "X_test_scaled = scaler.transform(X_test)\n",
        "\n",
        "svr = SVR(kernel='rbf', C=100, gamma=0.1)\n",
        "svr.fit(X_train_scaled, y_train)\n",
        "print(\"SVR (RBF) R² Score:\", svr.score(X_test_scaled, y_test))\n"
      ],
      "metadata": {
        "colab": {
          "base_uri": "https://localhost:8080/"
        },
        "id": "l_omcGxtT_fZ",
        "outputId": "5b307c16-0aff-4afc-e96d-6f2f2eacc19b"
      },
      "execution_count": 4,
      "outputs": [
        {
          "output_type": "stream",
          "name": "stdout",
          "text": [
            "Linear Regression R² Score: 0.5943232652466173\n",
            "Polynomial Regression (deg=3) R² Score: -39915.63999996444\n",
            "SVR (RBF) R² Score: 0.7692469066106394\n"
          ]
        }
      ]
    }
  ]
}