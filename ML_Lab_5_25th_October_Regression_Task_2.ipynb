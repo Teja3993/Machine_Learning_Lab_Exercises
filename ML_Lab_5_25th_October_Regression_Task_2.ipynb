{
  "nbformat": 4,
  "nbformat_minor": 0,
  "metadata": {
    "colab": {
      "provenance": [],
      "authorship_tag": "ABX9TyPObYa282qYmajbUS8UY8cL",
      "include_colab_link": true
    },
    "kernelspec": {
      "name": "python3",
      "display_name": "Python 3"
    },
    "language_info": {
      "name": "python"
    }
  },
  "cells": [
    {
      "cell_type": "markdown",
      "metadata": {
        "id": "view-in-github",
        "colab_type": "text"
      },
      "source": [
        "<a href=\"https://colab.research.google.com/github/Teja3993/Machine_Learning_Lab_Exercises/blob/main/ML_Lab_5_25th_October_Regression_Task_2.ipynb\" target=\"_parent\"><img src=\"https://colab.research.google.com/assets/colab-badge.svg\" alt=\"Open In Colab\"/></a>"
      ]
    },
    {
      "cell_type": "code",
      "execution_count": 1,
      "metadata": {
        "colab": {
          "base_uri": "https://localhost:8080/"
        },
        "id": "NHTKmA3ZkXub",
        "outputId": "63faa1c1-1c65-4847-b068-398acf461c72"
      },
      "outputs": [
        {
          "output_type": "stream",
          "name": "stdout",
          "text": [
            "--- Task 2: Varying Hyperparameters ---\n",
            "----------------------------------------\n",
            "1. Polynomial Regression Hyperparameter Tuning:\n",
            "  Polynomial Regression (degree=2) R² Score: -1.1195872041789108\n",
            "  Polynomial Regression (degree=3) R² Score: -39915.63999996444\n",
            "  Polynomial Regression (degree=4) R² Score: -1629802.2592295583\n",
            "----------------------------------------\n",
            "2. SVR Hyperparameter Tuning:\n",
            "  SVR (C=1, gamma=auto) R² Score: 0.7462243656257972\n",
            "  SVR (C=100, gamma=0.1) R² Score: 0.7692469066106394\n",
            "  SVR (C=1000, gamma=0.01) R² Score: 0.7288209376430933\n",
            "----------------------------------------\n"
          ]
        }
      ],
      "source": [
        "# Import all necessary libraries\n",
        "from sklearn.datasets import fetch_california_housing\n",
        "from sklearn.linear_model import LinearRegression\n",
        "from sklearn.preprocessing import PolynomialFeatures, StandardScaler\n",
        "from sklearn.pipeline import make_pipeline\n",
        "from sklearn.svm import SVR\n",
        "from sklearn.model_selection import train_test_split\n",
        "\n",
        "# --- Part 1: Load and Split the Real-World Dataset ---\n",
        "# We use the California Housing dataset for this task.\n",
        "housing = fetch_california_housing()\n",
        "X = housing.data\n",
        "y = housing.target\n",
        "\n",
        "# Split the data into training (80%) and testing (20%) sets\n",
        "X_train, X_test, y_train, y_test = train_test_split(X, y, test_size=0.2, random_state=0)\n",
        "\n",
        "print(\"--- Task 2: Varying Hyperparameters ---\")\n",
        "print(\"-\" * 40)\n",
        "\n",
        "# --- Part 2: Varying Polynomial Regression Degree ---\n",
        "print(\"1. Polynomial Regression Hyperparameter Tuning:\")\n",
        "polynomial_degrees = [2, 3, 4] # The degrees we want to test\n",
        "\n",
        "for degree in polynomial_degrees:\n",
        "    # Create the model with the current degree\n",
        "    poly_model = make_pipeline(PolynomialFeatures(degree=degree), LinearRegression())\n",
        "\n",
        "    # Train the model\n",
        "    poly_model.fit(X_train, y_train)\n",
        "\n",
        "    # Test the model and print the score\n",
        "    score = poly_model.score(X_test, y_test)\n",
        "    print(f\"  Polynomial Regression (degree={degree}) R² Score: {score}\")\n",
        "\n",
        "print(\"-\" * 40)\n",
        "\n",
        "# --- Part 3: Varying SVR Hyperparameters (C and gamma) ---\n",
        "print(\"2. SVR Hyperparameter Tuning:\")\n",
        "\n",
        "# First, we must scale the data as SVR is sensitive to feature scales\n",
        "scaler = StandardScaler()\n",
        "X_train_scaled = scaler.fit_transform(X_train)\n",
        "X_test_scaled = scaler.transform(X_test)\n",
        "\n",
        "# Hyperparameter combinations we want to test\n",
        "svr_params = [\n",
        "    {'C': 1, 'gamma': 'auto'},\n",
        "    {'C': 100, 'gamma': 0.1},  # This was the original setting\n",
        "    {'C': 1000, 'gamma': 0.01}\n",
        "]\n",
        "\n",
        "for params in svr_params:\n",
        "    C_val = params['C']\n",
        "    gamma_val = params['gamma']\n",
        "\n",
        "    # Create the SVR model with the current parameters\n",
        "    svr = SVR(kernel='rbf', C=C_val, gamma=gamma_val)\n",
        "\n",
        "    # Train the model\n",
        "    svr.fit(X_train_scaled, y_train)\n",
        "\n",
        "    # Test the model and print the score\n",
        "    score = svr.score(X_test_scaled, y_test)\n",
        "    print(f\"  SVR (C={C_val}, gamma={gamma_val}) R² Score: {score}\")\n",
        "\n",
        "print(\"-\" * 40)"
      ]
    }
  ]
}